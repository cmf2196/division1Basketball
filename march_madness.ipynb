{
 "cells": [
  {
   "cell_type": "markdown",
   "metadata": {},
   "source": [
    "# MARCH MADNESS PREDICTOR"
   ]
  },
  {
   "cell_type": "markdown",
   "metadata": {},
   "source": [
    "Authors: Connor Finn, Riley Greene <br>\n",
    "Date: 1/24/20 <br>\n",
    "Warren Buffet is still paying 1 billion for a perfect bracket"
   ]
  },
  {
   "cell_type": "code",
   "execution_count": 2,
   "metadata": {},
   "outputs": [],
   "source": [
    "# our imports for the model\n",
    "import pandas as pd\n",
    "import requests\n",
    "from bs4 import BeautifulSoup \n",
    "import lxml.html as lh\n",
    "\n",
    "# a few constants\n",
    "start_year = 2010"
   ]
  },
  {
   "cell_type": "markdown",
   "metadata": {},
   "source": [
    "Because basketball has changed so much over the past years, we believe that data prior to the year 2010 could be detrimental to our model. For this reason, the next block of code will be used to slim the data down from the 1985 - 2018 seasons to a dataframe including the the 2020 - 2018 NCAA tournaments."
   ]
  },
  {
   "cell_type": "code",
   "execution_count": 3,
   "metadata": {},
   "outputs": [],
   "source": [
    "# read ncaa tournament results into dataframe ( data obtained from Kaggle)\n",
    "ncaa_total = pd.read_csv('NCAATourneyCompactResults.csv')  \n",
    "# read team ID dataframe (from Kaggle)\n",
    "team_data = pd.read_csv('teams.csv')  \n",
    "# get the first index for the desired year\n",
    "start = min(ncaa_total[ncaa_total.iloc[:,0] == start_year].index.values.astype(int)) \n",
    "# shorten our dataframe\n",
    "ncaa_short = ncaa_total.iloc[start: , :]"
   ]
  },
  {
   "cell_type": "markdown",
   "metadata": {},
   "source": [
    "The team_id provides names written as 'Penn State'. The data we will be collecting is from Sports-reference.com. The url for penn state's data is 'https://www.sports-reference.com/cbb/schools/penn-state/2020.html' <br>\n",
    "1) the name needs to be adjusted to no spaces, all lower caps <br>\n",
    "2) the overall framework is 'https://www.sports-reference.com/cbb/schools/NAME/YEAR.html'<br>"
   ]
  },
  {
   "cell_type": "code",
   "execution_count": 9,
   "metadata": {},
   "outputs": [],
   "source": [
    "\"\"\"\n",
    "* this function will be used to transform a provided name to one that can be input into a sports-reference url\n",
    "* this will likely need to be adjusted as new teams are included\n",
    "* THIS NEEDS A UNIT TEST (i.e. run all our team names through once to see if they pass)\n",
    "\"\"\"\n",
    "def clean_team_name(name):\n",
    "    # name: string\n",
    "    team = name\n",
    "    team = team.lower()\n",
    "    team = team.replace(' ' , '-')\n",
    "    team = team.replace('(' , '')\n",
    "    team = team.replace(')' , '')\n",
    "    team = team.replace('.' , '')\n",
    "    team = team.replace( \"'\" , '')\n",
    "    team = team.replace(\"&\" , \"\")\n",
    "    team = team.replace(\"university-of-\" , \"\") \n",
    "    return team\n",
    "def test_team_names(team_names):\n",
    "    # team_names: list of strings \n",
    "    errors = 0\n",
    "    for name in team_names:\n",
    "        url_test =  \"https://www.sports-reference.com/cbb/schools/\" + name + \"/\"\n",
    "        try:\n",
    "            pageWL = requests.get(url_test)\n",
    "        except:\n",
    "            print(name , \" did not return a valid search criteria\")\n",
    "            errors += 1\n",
    "    print(\"finished unit test. There were \" , errors , \" errors.\")\n",
    "    return errors"
   ]
  },
  {
   "cell_type": "markdown",
   "metadata": {},
   "source": [
    "team_data is a dataframe which has the columns: 'TeamID', 'TeamName', 'FirstD1Season', 'LastD1Season'.  We want to create a new column which has the team names in accordance to the sports-reference.com framework. "
   ]
  },
  {
   "cell_type": "code",
   "execution_count": 10,
   "metadata": {},
   "outputs": [
    {
     "name": "stdout",
     "output_type": "stream",
     "text": [
      "finished unit test. There were  0  errors.\n"
     ]
    }
   ],
   "source": [
    "# get a list of all the team names in our dataframe\n",
    "team_names = team_data.TeamName.values.tolist()\n",
    "# clean every name in the team_data dataframe\n",
    "sr_names = []\n",
    "for name in team_names:\n",
    "    sr_names += [clean_team_name(name)]\n",
    "# run the test: if no error messages show up, then we add the list to dataframe\n",
    "num_errors = test_team_names(sr_names)\n",
    "if num_errors ==0:\n",
    "    team_data[\"SrNames\"] = sr_names"
   ]
  },
  {
   "cell_type": "code",
   "execution_count": null,
   "metadata": {},
   "outputs": [],
   "source": [
    "Using the two above dataframes, generate a list of team's that competed in the 2010-2018 NCAA tournaments. From there we can collect season data for each team from sports-reference.com and start the ML model"
   ]
  },
  {
   "cell_type": "code",
   "execution_count": null,
   "metadata": {
    "scrolled": true
   },
   "outputs": [],
   "source": [
    "# get the number of rows in the NCAA tournament dataframes ( number of games)\n",
    "ncaa_rows = ncaa_short.shape[0]\n",
    "# get all unique team id's for competitors in the tournaments\n",
    "all_team_id = ncaa_short.WTeamID.append(ncaa_short.LTeamID).unique()\n",
    "# Can below be done more efficienty?\n",
    "team_names = []\n",
    "for id1 in all_team_id:\n",
    "    teamIndex = team_data[team_data.TeamID==id1].index.values.astype(int)[0]  # this line could be slicker\n",
    "    teamName = team_data.TeamName.iloc[teamIndex]\n",
    "    team_names += [teamName]\n"
   ]
  },
  {
   "cell_type": "markdown",
   "metadata": {},
   "source": [
    "'team_names' is now have a compiled list of team names that have competed in the 2010 - 2018 NCAA tournaments. Next, we would like to collect the season data for these teams."
   ]
  },
  {
   "cell_type": "code",
   "execution_count": null,
   "metadata": {},
   "outputs": [],
   "source": []
  }
 ],
 "metadata": {
  "kernelspec": {
   "display_name": "Python 3",
   "language": "python",
   "name": "python3"
  },
  "language_info": {
   "codemirror_mode": {
    "name": "ipython",
    "version": 3
   },
   "file_extension": ".py",
   "mimetype": "text/x-python",
   "name": "python",
   "nbconvert_exporter": "python",
   "pygments_lexer": "ipython3",
   "version": "3.7.1"
  }
 },
 "nbformat": 4,
 "nbformat_minor": 2
}
